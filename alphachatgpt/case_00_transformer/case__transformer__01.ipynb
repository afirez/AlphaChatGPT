{
 "cells": [
  {
   "cell_type": "markdown",
   "metadata": {},
   "source": [
    "# 手写 Transformer"
   ]
  },
  {
   "cell_type": "code",
   "execution_count": 1,
   "metadata": {},
   "outputs": [],
   "source": [
    "import torch\n",
    "from torch import nn\n",
    "import torch.functional as F\n",
    "\n",
    "import math"
   ]
  },
  {
   "cell_type": "code",
   "execution_count": 2,
   "metadata": {},
   "outputs": [],
   "source": [
    "X = torch.randn(128, 64, 512) # [batch, time, dimension]"
   ]
  },
  {
   "cell_type": "code",
   "execution_count": 3,
   "metadata": {},
   "outputs": [
    {
     "name": "stdout",
     "output_type": "stream",
     "text": [
      "torch.Size([128, 64, 512])\n"
     ]
    }
   ],
   "source": [
    "print(X.shape)"
   ]
  },
  {
   "cell_type": "markdown",
   "metadata": {},
   "source": [
    "## 多头注意力机制"
   ]
  },
  {
   "cell_type": "code",
   "execution_count": 4,
   "metadata": {},
   "outputs": [],
   "source": [
    "d_model = 512 # q,k,v 权重dim \n",
    "n_head = 8 # 注意力头"
   ]
  },
  {
   "cell_type": "code",
   "execution_count": 5,
   "metadata": {},
   "outputs": [],
   "source": [
    "class MultiHeadAttention(nn.Module):\n",
    "    def __init__(self, d_model, n_head) -> None:\n",
    "        super(MultiHeadAttention, self).__init__()\n",
    "\n",
    "        self.n_head = n_head\n",
    "        self.d_model = d_model\n",
    "        self.w_q = nn.Linear(d_model, d_model)\n",
    "        self.w_k = nn.Linear(d_model, d_model)\n",
    "        self.w_v = nn.Linear(d_model, d_model)\n",
    "        self.w_combine = nn.Linear(d_model, d_model)\n",
    "        self.softmax = nn.Softmax(dim=-1)\n",
    "\n",
    "    def forward(self, q, k, v, mask = None):\n",
    "        batch, time, dimension = q.shape\n",
    "        n_d = self.d_model // self.n_head\n",
    "        \n",
    "        q = self.w_q(q)\n",
    "        k = self.w_k(k) \n",
    "        v = self.w_v(v)\n",
    "\n",
    "        q = q.view(batch, time, self.n_head, n_d).permute(0, 2, 1, 3)\n",
    "        k = k.view(batch, time, self.n_head, n_d).permute(0, 2, 1, 3)\n",
    "        v = v.view(batch, time, self.n_head, n_d).permute(0, 2, 1, 3)\n",
    "        \n",
    "        score = q @ k.transpose(2,3) / math.sqrt(n_d)\n",
    "        if mask is not None:\n",
    "            mask = torch.tril(torch.ones(time, time, dtype=bool))\n",
    "            score = score.masked_fill(mask == 0, float(\"-inf\")) # 做 softmax 操作时，e 的负五无穷等于 0\n",
    "        score = self.softmax(score) @ v\n",
    "\n",
    "        score = score.permute(0, 2, 1, 3).contiguous().view(batch, time, dimension)\n",
    "\n",
    "        output = self.w_combine(score)\n",
    "        return output"
   ]
  },
  {
   "cell_type": "code",
   "execution_count": 6,
   "metadata": {},
   "outputs": [
    {
     "name": "stdout",
     "output_type": "stream",
     "text": [
      "tensor([[[-3.2379e-02, -5.5683e-01,  1.2646e-02,  ..., -1.0508e-01,\n",
      "           3.6439e-04, -2.5211e-01],\n",
      "         [ 1.6632e-01, -2.8211e-01, -3.3325e-02,  ...,  5.9400e-02,\n",
      "          -7.0265e-02, -3.6296e-01],\n",
      "         [ 3.0871e-01, -3.2886e-01, -4.4546e-02,  ...,  2.4793e-01,\n",
      "           8.0088e-02, -6.1949e-02],\n",
      "         ...,\n",
      "         [ 8.5811e-02,  8.9556e-02,  2.0718e-02,  ..., -6.6410e-02,\n",
      "          -3.5111e-03, -2.6802e-02],\n",
      "         [ 9.7252e-02,  6.8795e-02,  1.9015e-02,  ..., -4.4383e-02,\n",
      "          -9.6786e-03, -2.2903e-02],\n",
      "         [ 1.0361e-01,  8.1382e-02,  1.6885e-02,  ..., -6.1121e-02,\n",
      "           1.3742e-02, -3.8663e-02]],\n",
      "\n",
      "        [[ 2.4396e-01,  3.7242e-01,  3.1582e-01,  ...,  3.5661e-01,\n",
      "           1.6890e-01,  6.2801e-01],\n",
      "         [ 4.7332e-01,  1.0259e-02,  2.5907e-01,  ...,  2.6994e-01,\n",
      "           2.8141e-01,  7.4819e-02],\n",
      "         [ 5.9286e-01, -1.8706e-01,  1.7782e-01,  ...,  5.6798e-02,\n",
      "           1.1468e-01,  1.8903e-02],\n",
      "         ...,\n",
      "         [ 3.0853e-02,  1.0542e-01,  4.8887e-02,  ..., -3.8462e-02,\n",
      "           2.0014e-02,  5.8365e-02],\n",
      "         [ 3.8331e-03,  4.6934e-02,  4.2218e-02,  ..., -3.5612e-02,\n",
      "           8.9378e-02,  3.8081e-02],\n",
      "         [ 5.6540e-02,  8.3275e-02,  5.7700e-02,  ..., -3.9228e-02,\n",
      "           9.4969e-02,  6.4974e-02]],\n",
      "\n",
      "        [[-4.8219e-01,  1.3004e-01, -4.7514e-03,  ..., -1.1150e-01,\n",
      "          -5.1220e-01,  2.4948e-01],\n",
      "         [-4.0409e-01, -9.1302e-02,  2.3788e-01,  ..., -1.9815e-01,\n",
      "          -3.8668e-01,  1.2672e-01],\n",
      "         [-2.2816e-01, -5.3300e-02,  2.8757e-01,  ..., -2.5053e-01,\n",
      "          -3.5724e-01,  6.3568e-02],\n",
      "         ...,\n",
      "         [ 4.9815e-02, -1.9061e-02,  9.1332e-02,  ..., -1.2689e-01,\n",
      "           4.1734e-02, -1.2592e-01],\n",
      "         [ 3.1292e-02, -9.7904e-05,  7.7837e-02,  ..., -9.0233e-02,\n",
      "           4.0467e-02, -8.5082e-02],\n",
      "         [ 5.5321e-02, -4.9443e-02,  1.1334e-01,  ..., -1.0127e-01,\n",
      "           5.9459e-02, -7.5617e-02]],\n",
      "\n",
      "        ...,\n",
      "\n",
      "        [[ 7.1009e-02,  1.4407e-01, -3.6470e-01,  ..., -2.9956e-02,\n",
      "           3.3559e-01,  2.7991e-01],\n",
      "         [ 7.9876e-02,  1.4755e-01, -4.4857e-01,  ...,  8.6003e-02,\n",
      "           2.2936e-01, -5.0949e-02],\n",
      "         [-7.7534e-03,  1.4115e-01, -3.8090e-01,  ...,  7.5937e-02,\n",
      "           9.2720e-02,  2.0040e-01],\n",
      "         ...,\n",
      "         [ 6.8218e-02,  6.1857e-02,  7.6368e-02,  ..., -7.7690e-02,\n",
      "           1.1480e-01, -3.7512e-02],\n",
      "         [ 4.2592e-02,  4.2316e-02,  7.0332e-02,  ..., -4.1175e-02,\n",
      "           9.9294e-02, -3.8952e-02],\n",
      "         [ 6.8023e-02,  6.2215e-02,  1.1044e-01,  ..., -6.2250e-02,\n",
      "           6.9686e-02, -3.0029e-02]],\n",
      "\n",
      "        [[-5.6778e-02,  6.5071e-02,  2.6196e-01,  ..., -6.4257e-02,\n",
      "           1.0376e-01,  1.8255e-01],\n",
      "         [ 6.2581e-02, -8.1117e-02,  3.1555e-01,  ...,  2.1799e-02,\n",
      "           1.8574e-01,  1.1169e-01],\n",
      "         [ 1.0656e-01, -3.4769e-01,  1.4578e-01,  ...,  4.7951e-03,\n",
      "           2.0044e-01,  1.4719e-01],\n",
      "         ...,\n",
      "         [-7.6183e-02,  2.1557e-03,  1.0619e-01,  ..., -3.4458e-02,\n",
      "           2.8035e-02,  4.4575e-02],\n",
      "         [-1.0530e-01,  3.6974e-02,  1.3080e-01,  ..., -3.8500e-02,\n",
      "           1.6548e-02,  3.9025e-02],\n",
      "         [-7.3722e-02,  5.6749e-02,  1.3658e-01,  ..., -4.4852e-02,\n",
      "           2.2726e-03,  5.1497e-02]],\n",
      "\n",
      "        [[ 3.7823e-01,  4.2802e-01,  1.4391e-01,  ...,  3.9646e-01,\n",
      "           2.1263e-01, -3.0855e-01],\n",
      "         [ 2.6029e-01,  1.8785e-01,  6.2999e-02,  ...,  6.9873e-02,\n",
      "           9.8681e-02, -1.6676e-01],\n",
      "         [ 1.2007e-01,  2.1458e-01,  3.7355e-02,  ...,  1.1686e-01,\n",
      "           7.1366e-02, -6.5700e-02],\n",
      "         ...,\n",
      "         [ 6.2064e-02,  5.5800e-02, -1.5391e-02,  ..., -5.0966e-02,\n",
      "          -4.1082e-02, -4.1741e-03],\n",
      "         [ 7.4510e-02,  7.0581e-02,  2.7006e-02,  ..., -9.4808e-02,\n",
      "          -4.8699e-02, -2.3294e-03],\n",
      "         [ 9.8157e-02,  5.3142e-02,  2.4485e-02,  ..., -8.9046e-02,\n",
      "          -3.2435e-02, -6.2474e-03]]], grad_fn=<ViewBackward0>)\n",
      "torch.Size([128, 64, 512])\n"
     ]
    }
   ],
   "source": [
    "attention = MultiHeadAttention(d_model, n_head)\n",
    "output = attention(X,X,X, mask = 1)\n",
    "print(output)\n",
    "print(output.shape)"
   ]
  }
 ],
 "metadata": {
  "kernelspec": {
   "display_name": "py310",
   "language": "python",
   "name": "python3"
  },
  "language_info": {
   "codemirror_mode": {
    "name": "ipython",
    "version": 3
   },
   "file_extension": ".py",
   "mimetype": "text/x-python",
   "name": "python",
   "nbconvert_exporter": "python",
   "pygments_lexer": "ipython3",
   "version": "3.10.13"
  }
 },
 "nbformat": 4,
 "nbformat_minor": 2
}
