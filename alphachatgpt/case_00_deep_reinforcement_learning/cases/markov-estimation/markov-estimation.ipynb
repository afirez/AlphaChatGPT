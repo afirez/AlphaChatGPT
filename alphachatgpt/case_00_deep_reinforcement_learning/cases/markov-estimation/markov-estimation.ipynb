{
 "cells": [
  {
   "cell_type": "code",
   "execution_count": 1,
   "metadata": {},
   "outputs": [],
   "source": [
    "import torch"
   ]
  },
  {
   "cell_type": "code",
   "execution_count": 2,
   "metadata": {},
   "outputs": [
    {
     "name": "stderr",
     "output_type": "stream",
     "text": [
      "f:\\apps\\miniconda3\\envs\\py310\\lib\\site-packages\\tqdm\\auto.py:21: TqdmWarning: IProgress not found. Please update jupyter and ipywidgets. See https://ipywidgets.readthedocs.io/en/stable/user_install.html\n",
      "  from .autonotebook import tqdm as notebook_tqdm\n"
     ]
    },
    {
     "name": "stdout",
     "output_type": "stream",
     "text": [
      "Epoch [100/1000], Loss: -6.100152969360352\n",
      "Epoch [200/1000], Loss: -7.934630393981934\n",
      "Epoch [300/1000], Loss: -9.074251174926758\n",
      "Epoch [400/1000], Loss: -9.908958435058594\n",
      "Epoch [500/1000], Loss: -10.57122802734375\n",
      "Epoch [600/1000], Loss: -11.122459411621094\n",
      "Epoch [700/1000], Loss: -11.596203804016113\n",
      "Epoch [800/1000], Loss: -12.012822151184082\n",
      "Epoch [900/1000], Loss: -12.385605812072754\n",
      "Epoch [1000/1000], Loss: -12.723711013793945\n",
      "Estimated transition probabilities:\n",
      "[[14.808398 24.238363]\n",
      " [27.68827  33.879196]]\n"
     ]
    }
   ],
   "source": [
    "# 定义马尔可夫链的状态空间和转移概率矩阵\n",
    "states = ['Sunny', 'Rainy']\n",
    "transition_probabilities = torch.tensor([[0.8, 0.2],  # Sunny -> Sunny, Sunny -> Rainy\n",
    "                                         [0.4, 0.6]]) # Rainy -> Sunny, Rainy -> Rainy\n",
    "\n",
    "# 生成观测数据\n",
    "observations = ['Sunny', 'Sunny', 'Rainy', 'Rainy', 'Sunny']\n",
    "\n",
    "# 初始化转移概率矩阵的估计\n",
    "estimated_transition_probabilities = torch.rand(2, 2, requires_grad=True)\n",
    "\n",
    "# 定义优化器\n",
    "optimizer = torch.optim.Adam([estimated_transition_probabilities], lr=0.1)\n",
    "\n",
    "# 进行估计\n",
    "num_epochs = 1000\n",
    "for epoch in range(num_epochs):\n",
    "    # 计算似然函数\n",
    "    log_likelihood = 0\n",
    "    for i in range(len(observations) - 1):\n",
    "        current_state_index = states.index(observations[i])\n",
    "        next_state_index = states.index(observations[i + 1])\n",
    "        log_likelihood += torch.log(estimated_transition_probabilities[current_state_index, next_state_index])\n",
    "    \n",
    "    # 最大化似然函数等价于最小化负的似然函数\n",
    "    loss = -log_likelihood\n",
    "    \n",
    "    # 梯度清零\n",
    "    optimizer.zero_grad()\n",
    "    \n",
    "    # 反向传播\n",
    "    loss.backward()\n",
    "    \n",
    "    # 更新参数\n",
    "    optimizer.step()\n",
    "    \n",
    "    # 打印当前的损失值\n",
    "    if (epoch + 1) % 100 == 0:\n",
    "        print(f'Epoch [{epoch+1}/{num_epochs}], Loss: {loss.item()}')\n",
    "\n",
    "# 输出估计的转移概率矩阵\n",
    "print(\"Estimated transition probabilities:\")\n",
    "print(estimated_transition_probabilities.detach().numpy())"
   ]
  },
  {
   "cell_type": "code",
   "execution_count": 3,
   "metadata": {},
   "outputs": [
    {
     "data": {
      "text/plain": [
       "tensor([[14.8084, 24.2384],\n",
       "        [27.6883, 33.8792]])"
      ]
     },
     "execution_count": 3,
     "metadata": {},
     "output_type": "execute_result"
    }
   ],
   "source": [
    "estimated_transition_probabilities.detach()"
   ]
  },
  {
   "cell_type": "code",
   "execution_count": 4,
   "metadata": {},
   "outputs": [
    {
     "data": {
      "text/plain": [
       "array([[14.808398, 24.238363],\n",
       "       [27.68827 , 33.879196]], dtype=float32)"
      ]
     },
     "execution_count": 4,
     "metadata": {},
     "output_type": "execute_result"
    },
    {
     "ename": "",
     "evalue": "",
     "output_type": "error",
     "traceback": [
      "\u001b[1;31mThe Kernel crashed while executing code in the current cell or a previous cell. \n",
      "\u001b[1;31mPlease review the code in the cell(s) to identify a possible cause of the failure. \n",
      "\u001b[1;31mClick <a href='https://aka.ms/vscodeJupyterKernelCrash'>here</a> for more info. \n",
      "\u001b[1;31mView Jupyter <a href='command:jupyter.viewOutput'>log</a> for further details."
     ]
    }
   ],
   "source": [
    "estimated_transition_probabilities.detach().numpy()"
   ]
  }
 ],
 "metadata": {
  "kernelspec": {
   "display_name": "py310",
   "language": "python",
   "name": "python3"
  },
  "language_info": {
   "codemirror_mode": {
    "name": "ipython",
    "version": 3
   },
   "file_extension": ".py",
   "mimetype": "text/x-python",
   "name": "python",
   "nbconvert_exporter": "python",
   "pygments_lexer": "ipython3",
   "version": "3.10.13"
  }
 },
 "nbformat": 4,
 "nbformat_minor": 2
}
