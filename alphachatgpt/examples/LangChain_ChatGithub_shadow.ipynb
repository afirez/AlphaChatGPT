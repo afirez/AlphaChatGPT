{
  "cells": [
    {
      "cell_type": "markdown",
      "metadata": {
        "colab_type": "text",
        "id": "view-in-github"
      },
      "source": [
        "<a href=\"https://colab.research.google.com/github/sugarforever/LangChain-Tutorials/blob/main/LangChain_ChatGithub.ipynb\" target=\"_parent\"><img src=\"https://colab.research.google.com/assets/colab-badge.svg\" alt=\"Open In Colab\"/></a>"
      ]
    },
    {
      "cell_type": "code",
      "execution_count": 1,
      "metadata": {
        "colab": {
          "base_uri": "https://localhost:8080/"
        },
        "id": "2o-rPJYwWLh8",
        "outputId": "4952e7d1-8153-44a8-a0fc-00202ea37625"
      },
      "outputs": [
        {
          "name": "stdout",
          "output_type": "stream",
          "text": [
            "Requirement already satisfied: langchain in c:\\users\\dell\\.conda\\envs\\py39\\lib\\site-packages (0.0.162)\n",
            "Requirement already satisfied: deeplake in c:\\users\\dell\\.conda\\envs\\py39\\lib\\site-packages (3.4.0)\n",
            "Requirement already satisfied: openai in c:\\users\\dell\\.conda\\envs\\py39\\lib\\site-packages (0.27.6)\n",
            "Requirement already satisfied: tiktoken in c:\\users\\dell\\.conda\\envs\\py39\\lib\\site-packages (0.4.0)\n",
            "Requirement already satisfied: numpy<2,>=1 in c:\\users\\dell\\.conda\\envs\\py39\\lib\\site-packages (from langchain) (1.24.3)\n",
            "Requirement already satisfied: openapi-schema-pydantic<2.0,>=1.2 in c:\\users\\dell\\.conda\\envs\\py39\\lib\\site-packages (from langchain) (1.2.4)\n",
            "Requirement already satisfied: numexpr<3.0.0,>=2.8.4 in c:\\users\\dell\\.conda\\envs\\py39\\lib\\site-packages (from langchain) (2.8.4)\n",
            "Requirement already satisfied: SQLAlchemy<3,>=1.4 in c:\\users\\dell\\.conda\\envs\\py39\\lib\\site-packages (from langchain) (2.0.12)\n",
            "Requirement already satisfied: PyYAML>=5.4.1 in c:\\users\\dell\\.conda\\envs\\py39\\lib\\site-packages (from langchain) (6.0)\n",
            "Requirement already satisfied: requests<3,>=2 in c:\\users\\dell\\.conda\\envs\\py39\\lib\\site-packages (from langchain) (2.30.0)\n",
            "Requirement already satisfied: pydantic<2,>=1 in c:\\users\\dell\\.conda\\envs\\py39\\lib\\site-packages (from langchain) (1.10.7)\n",
            "Requirement already satisfied: dataclasses-json<0.6.0,>=0.5.7 in c:\\users\\dell\\.conda\\envs\\py39\\lib\\site-packages (from langchain) (0.5.7)\n",
            "Requirement already satisfied: async-timeout<5.0.0,>=4.0.0 in c:\\users\\dell\\.conda\\envs\\py39\\lib\\site-packages (from langchain) (4.0.2)\n",
            "Requirement already satisfied: tqdm>=4.48.0 in c:\\users\\dell\\.conda\\envs\\py39\\lib\\site-packages (from langchain) (4.65.0)\n",
            "Requirement already satisfied: aiohttp<4.0.0,>=3.8.3 in c:\\users\\dell\\.conda\\envs\\py39\\lib\\site-packages (from langchain) (3.8.4)\n",
            "Requirement already satisfied: tenacity<9.0.0,>=8.1.0 in c:\\users\\dell\\.conda\\envs\\py39\\lib\\site-packages (from langchain) (8.2.2)\n",
            "Requirement already satisfied: pyjwt in c:\\users\\dell\\.conda\\envs\\py39\\lib\\site-packages (from deeplake) (2.6.0)\n",
            "Requirement already satisfied: boto3 in c:\\users\\dell\\.conda\\envs\\py39\\lib\\site-packages (from deeplake) (1.26.130)\n",
            "Requirement already satisfied: pillow in c:\\users\\dell\\.conda\\envs\\py39\\lib\\site-packages (from deeplake) (9.5.0)\n",
            "Requirement already satisfied: humbug>=0.3.1 in c:\\users\\dell\\.conda\\envs\\py39\\lib\\site-packages (from deeplake) (0.3.1)\n",
            "Requirement already satisfied: pathos in c:\\users\\dell\\.conda\\envs\\py39\\lib\\site-packages (from deeplake) (0.3.0)\n",
            "Requirement already satisfied: numcodecs in c:\\users\\dell\\.conda\\envs\\py39\\lib\\site-packages (from deeplake) (0.11.0)\n",
            "Requirement already satisfied: click in c:\\users\\dell\\.conda\\envs\\py39\\lib\\site-packages (from deeplake) (8.1.3)\n",
            "Requirement already satisfied: regex>=2022.1.18 in c:\\users\\dell\\.conda\\envs\\py39\\lib\\site-packages (from tiktoken) (2023.5.5)\n",
            "Requirement already satisfied: frozenlist>=1.1.1 in c:\\users\\dell\\.conda\\envs\\py39\\lib\\site-packages (from aiohttp<4.0.0,>=3.8.3->langchain) (1.3.3)\n",
            "Requirement already satisfied: yarl<2.0,>=1.0 in c:\\users\\dell\\.conda\\envs\\py39\\lib\\site-packages (from aiohttp<4.0.0,>=3.8.3->langchain) (1.9.2)\n",
            "Requirement already satisfied: aiosignal>=1.1.2 in c:\\users\\dell\\.conda\\envs\\py39\\lib\\site-packages (from aiohttp<4.0.0,>=3.8.3->langchain) (1.3.1)\n",
            "Requirement already satisfied: multidict<7.0,>=4.5 in c:\\users\\dell\\.conda\\envs\\py39\\lib\\site-packages (from aiohttp<4.0.0,>=3.8.3->langchain) (6.0.4)\n",
            "Requirement already satisfied: charset-normalizer<4.0,>=2.0 in c:\\users\\dell\\.conda\\envs\\py39\\lib\\site-packages (from aiohttp<4.0.0,>=3.8.3->langchain) (3.1.0)\n",
            "Requirement already satisfied: attrs>=17.3.0 in c:\\users\\dell\\.conda\\envs\\py39\\lib\\site-packages (from aiohttp<4.0.0,>=3.8.3->langchain) (23.1.0)\n",
            "Requirement already satisfied: marshmallow-enum<2.0.0,>=1.5.1 in c:\\users\\dell\\.conda\\envs\\py39\\lib\\site-packages (from dataclasses-json<0.6.0,>=0.5.7->langchain) (1.5.1)\n",
            "Requirement already satisfied: typing-inspect>=0.4.0 in c:\\users\\dell\\.conda\\envs\\py39\\lib\\site-packages (from dataclasses-json<0.6.0,>=0.5.7->langchain) (0.8.0)\n",
            "Requirement already satisfied: marshmallow<4.0.0,>=3.3.0 in c:\\users\\dell\\.conda\\envs\\py39\\lib\\site-packages (from dataclasses-json<0.6.0,>=0.5.7->langchain) (3.19.0)\n",
            "Requirement already satisfied: typing-extensions>=4.2.0 in c:\\users\\dell\\.conda\\envs\\py39\\lib\\site-packages (from pydantic<2,>=1->langchain) (4.5.0)\n",
            "Requirement already satisfied: urllib3<3,>=1.21.1 in c:\\users\\dell\\.conda\\envs\\py39\\lib\\site-packages (from requests<3,>=2->langchain) (1.26.15)\n",
            "Requirement already satisfied: idna<4,>=2.5 in c:\\users\\dell\\.conda\\envs\\py39\\lib\\site-packages (from requests<3,>=2->langchain) (3.4)\n",
            "Requirement already satisfied: certifi>=2017.4.17 in c:\\users\\dell\\.conda\\envs\\py39\\lib\\site-packages (from requests<3,>=2->langchain) (2023.5.7)\n",
            "Requirement already satisfied: greenlet!=0.4.17 in c:\\users\\dell\\.conda\\envs\\py39\\lib\\site-packages (from SQLAlchemy<3,>=1.4->langchain) (2.0.2)\n",
            "Requirement already satisfied: colorama in c:\\users\\dell\\.conda\\envs\\py39\\lib\\site-packages (from tqdm>=4.48.0->langchain) (0.4.6)\n",
            "Requirement already satisfied: botocore<1.30.0,>=1.29.130 in c:\\users\\dell\\.conda\\envs\\py39\\lib\\site-packages (from boto3->deeplake) (1.29.130)\n",
            "Requirement already satisfied: s3transfer<0.7.0,>=0.6.0 in c:\\users\\dell\\.conda\\envs\\py39\\lib\\site-packages (from boto3->deeplake) (0.6.1)\n",
            "Requirement already satisfied: jmespath<2.0.0,>=0.7.1 in c:\\users\\dell\\.conda\\envs\\py39\\lib\\site-packages (from boto3->deeplake) (1.0.1)\n",
            "Requirement already satisfied: entrypoints in c:\\users\\dell\\.conda\\envs\\py39\\lib\\site-packages (from numcodecs->deeplake) (0.4)\n",
            "Requirement already satisfied: multiprocess>=0.70.14 in c:\\users\\dell\\.conda\\envs\\py39\\lib\\site-packages (from pathos->deeplake) (0.70.14)\n",
            "Requirement already satisfied: ppft>=1.7.6.6 in c:\\users\\dell\\.conda\\envs\\py39\\lib\\site-packages (from pathos->deeplake) (1.7.6.6)\n",
            "Requirement already satisfied: dill>=0.3.6 in c:\\users\\dell\\.conda\\envs\\py39\\lib\\site-packages (from pathos->deeplake) (0.3.6)\n",
            "Requirement already satisfied: pox>=0.3.2 in c:\\users\\dell\\.conda\\envs\\py39\\lib\\site-packages (from pathos->deeplake) (0.3.2)\n",
            "Requirement already satisfied: python-dateutil<3.0.0,>=2.1 in c:\\users\\dell\\.conda\\envs\\py39\\lib\\site-packages (from botocore<1.30.0,>=1.29.130->boto3->deeplake) (2.8.2)\n",
            "Requirement already satisfied: packaging>=17.0 in c:\\users\\dell\\.conda\\envs\\py39\\lib\\site-packages (from marshmallow<4.0.0,>=3.3.0->dataclasses-json<0.6.0,>=0.5.7->langchain) (23.1)\n",
            "Requirement already satisfied: mypy-extensions>=0.3.0 in c:\\users\\dell\\.conda\\envs\\py39\\lib\\site-packages (from typing-inspect>=0.4.0->dataclasses-json<0.6.0,>=0.5.7->langchain) (1.0.0)\n",
            "Requirement already satisfied: six>=1.5 in c:\\users\\dell\\.conda\\envs\\py39\\lib\\site-packages (from python-dateutil<3.0.0,>=2.1->botocore<1.30.0,>=1.29.130->boto3->deeplake) (1.16.0)\n"
          ]
        }
      ],
      "source": [
        "! pip install --upgrade langchain deeplake openai tiktoken"
      ]
    },
    {
      "cell_type": "code",
      "execution_count": 1,
      "metadata": {
        "id": "nTRCqa1d0zSZ"
      },
      "outputs": [],
      "source": [
        "import os\n",
        "\n",
        "from langchain.embeddings.openai import OpenAIEmbeddings\n",
        "from langchain.vectorstores import DeepLake\n",
        "from langchain.vectorstores import Chroma\n",
        "\n",
        "os.environ['OPENAI_API_KEY'] = 'sk-'\n",
        "os.environ['ACTIVELOOP_TOKEN'] = 't'\n"
      ]
    },
    {
      "cell_type": "code",
      "execution_count": 2,
      "metadata": {
        "id": "LbSQL7qq0_la"
      },
      "outputs": [],
      "source": [
        "embeddings = OpenAIEmbeddings(disallowed_special=())"
      ]
    },
    {
      "cell_type": "code",
      "execution_count": 5,
      "metadata": {
        "colab": {
          "base_uri": "https://localhost:8080/"
        },
        "id": "ciO_aYtP1EA3",
        "outputId": "3e510ab6-29bf-4cf4-aeb2-b49455dda961"
      },
      "outputs": [
        {
          "name": "stdout",
          "output_type": "stream",
          "text": [
            "^C\n"
          ]
        },
        {
          "name": "stderr",
          "output_type": "stream",
          "text": [
            "Cloning into 'chroma'...\n",
            "fatal: not a git repository: 'C:/Users/Dell/studio/python/auto-trade/examples/chatgpt/chroma/.git'\n",
            "fatal: remote did not send all necessary objects\n"
          ]
        }
      ],
      "source": [
        "!git clone https://github.com/Tencent/Shadow.git"
      ]
    },
    {
      "cell_type": "code",
      "execution_count": 3,
      "metadata": {
        "id": "Cl3XkDfJ1eBl"
      },
      "outputs": [],
      "source": [
        "import os\n",
        "from langchain.document_loaders import TextLoader\n",
        "\n",
        "# root_dir = './tmp/shadow'\n",
        "root_dir = 'C:\\\\Users\\\\Dell\\\\studio\\\\android\\\\Shadow'\n",
        "docs = []\n",
        "for dirpath, dirnames, filenames in os.walk(root_dir):\n",
        "    for file in filenames:\n",
        "        try: \n",
        "            loader = TextLoader(os.path.join(dirpath, file), encoding='utf-8')\n",
        "            docs.extend(loader.load_and_split())\n",
        "        except Exception as e: \n",
        "            pass"
      ]
    },
    {
      "cell_type": "code",
      "execution_count": 4,
      "metadata": {
        "colab": {
          "base_uri": "https://localhost:8080/"
        },
        "id": "lPGsYWURF9i9",
        "outputId": "bae55e03-e096-4677-bea4-82ec227be093"
      },
      "outputs": [
        {
          "data": {
            "text/plain": [
              "1659"
            ]
          },
          "execution_count": 4,
          "metadata": {},
          "output_type": "execute_result"
        }
      ],
      "source": [
        "len(docs)"
      ]
    },
    {
      "cell_type": "code",
      "execution_count": 5,
      "metadata": {
        "colab": {
          "base_uri": "https://localhost:8080/"
        },
        "id": "hTMD_m6S1jpm",
        "outputId": "a0e1ab29-2fca-4c8a-e528-887b19441d02"
      },
      "outputs": [
        {
          "name": "stderr",
          "output_type": "stream",
          "text": [
            "Created a chunk of size 1060, which is longer than the specified 1000\n",
            "Created a chunk of size 1479, which is longer than the specified 1000\n",
            "Created a chunk of size 1020, which is longer than the specified 1000\n",
            "Created a chunk of size 1540, which is longer than the specified 1000\n",
            "Created a chunk of size 1188, which is longer than the specified 1000\n",
            "Created a chunk of size 1012, which is longer than the specified 1000\n",
            "Created a chunk of size 1828, which is longer than the specified 1000\n",
            "Created a chunk of size 1378, which is longer than the specified 1000\n",
            "Created a chunk of size 1027, which is longer than the specified 1000\n",
            "Created a chunk of size 1012, which is longer than the specified 1000\n",
            "Created a chunk of size 1828, which is longer than the specified 1000\n",
            "Created a chunk of size 1374, which is longer than the specified 1000\n",
            "Created a chunk of size 2138, which is longer than the specified 1000\n",
            "Created a chunk of size 1012, which is longer than the specified 1000\n",
            "Created a chunk of size 1828, which is longer than the specified 1000\n",
            "Created a chunk of size 1378, which is longer than the specified 1000\n",
            "Created a chunk of size 2108, which is longer than the specified 1000\n",
            "Created a chunk of size 1817, which is longer than the specified 1000\n",
            "Created a chunk of size 1813, which is longer than the specified 1000\n",
            "Created a chunk of size 2101, which is longer than the specified 1000\n",
            "Created a chunk of size 1239, which is longer than the specified 1000\n",
            "Created a chunk of size 1389, which is longer than the specified 1000\n",
            "Created a chunk of size 1239, which is longer than the specified 1000\n",
            "Created a chunk of size 1274, which is longer than the specified 1000\n",
            "Created a chunk of size 1425, which is longer than the specified 1000\n",
            "Created a chunk of size 1030, which is longer than the specified 1000\n",
            "Created a chunk of size 1103, which is longer than the specified 1000\n",
            "Created a chunk of size 1145, which is longer than the specified 1000\n",
            "Created a chunk of size 1449, which is longer than the specified 1000\n",
            "Created a chunk of size 1444, which is longer than the specified 1000\n",
            "Created a chunk of size 1281, which is longer than the specified 1000\n",
            "Created a chunk of size 1168, which is longer than the specified 1000\n",
            "Created a chunk of size 1001, which is longer than the specified 1000\n",
            "Created a chunk of size 1564, which is longer than the specified 1000\n",
            "Created a chunk of size 1186, which is longer than the specified 1000\n",
            "Created a chunk of size 1186, which is longer than the specified 1000\n",
            "Created a chunk of size 1239, which is longer than the specified 1000\n",
            "Created a chunk of size 1014, which is longer than the specified 1000\n",
            "Created a chunk of size 3035, which is longer than the specified 1000\n",
            "Created a chunk of size 3137, which is longer than the specified 1000\n",
            "Created a chunk of size 3102, which is longer than the specified 1000\n",
            "Created a chunk of size 1129, which is longer than the specified 1000\n",
            "Created a chunk of size 1129, which is longer than the specified 1000\n",
            "Created a chunk of size 1188, which is longer than the specified 1000\n",
            "Created a chunk of size 1987, which is longer than the specified 1000\n",
            "Created a chunk of size 1008, which is longer than the specified 1000\n",
            "Created a chunk of size 1057, which is longer than the specified 1000\n",
            "Created a chunk of size 1014, which is longer than the specified 1000\n",
            "Created a chunk of size 1457, which is longer than the specified 1000\n",
            "Created a chunk of size 1497, which is longer than the specified 1000\n",
            "Created a chunk of size 1074, which is longer than the specified 1000\n",
            "Created a chunk of size 1434, which is longer than the specified 1000\n",
            "Created a chunk of size 1067, which is longer than the specified 1000\n",
            "Created a chunk of size 1242, which is longer than the specified 1000\n",
            "Created a chunk of size 1074, which is longer than the specified 1000\n",
            "Created a chunk of size 2006, which is longer than the specified 1000\n",
            "Created a chunk of size 1204, which is longer than the specified 1000\n",
            "Created a chunk of size 1255, which is longer than the specified 1000\n",
            "Created a chunk of size 1012, which is longer than the specified 1000\n",
            "Created a chunk of size 1828, which is longer than the specified 1000\n",
            "Created a chunk of size 1378, which is longer than the specified 1000\n",
            "Created a chunk of size 2326, which is longer than the specified 1000\n",
            "Created a chunk of size 1092, which is longer than the specified 1000\n",
            "Created a chunk of size 1052, which is longer than the specified 1000\n",
            "Created a chunk of size 1583, which is longer than the specified 1000\n",
            "Created a chunk of size 1131, which is longer than the specified 1000\n",
            "Created a chunk of size 1531, which is longer than the specified 1000\n",
            "Created a chunk of size 1497, which is longer than the specified 1000\n",
            "Created a chunk of size 1212, which is longer than the specified 1000\n",
            "Created a chunk of size 1733, which is longer than the specified 1000\n",
            "Created a chunk of size 2014, which is longer than the specified 1000\n",
            "Created a chunk of size 1432, which is longer than the specified 1000\n",
            "Created a chunk of size 1523, which is longer than the specified 1000\n",
            "Created a chunk of size 1380, which is longer than the specified 1000\n",
            "Created a chunk of size 1609, which is longer than the specified 1000\n",
            "Created a chunk of size 1046, which is longer than the specified 1000\n",
            "Created a chunk of size 1014, which is longer than the specified 1000\n",
            "Created a chunk of size 1511, which is longer than the specified 1000\n",
            "Created a chunk of size 1418, which is longer than the specified 1000\n",
            "Created a chunk of size 1235, which is longer than the specified 1000\n",
            "Created a chunk of size 1541, which is longer than the specified 1000\n",
            "Created a chunk of size 1405, which is longer than the specified 1000\n",
            "Created a chunk of size 3548, which is longer than the specified 1000\n",
            "Created a chunk of size 1126, which is longer than the specified 1000\n",
            "Created a chunk of size 3638, which is longer than the specified 1000\n",
            "Created a chunk of size 1215, which is longer than the specified 1000\n",
            "Created a chunk of size 1599, which is longer than the specified 1000\n",
            "Created a chunk of size 1234, which is longer than the specified 1000\n",
            "Created a chunk of size 1010, which is longer than the specified 1000\n",
            "Created a chunk of size 1012, which is longer than the specified 1000\n",
            "Created a chunk of size 1828, which is longer than the specified 1000\n",
            "Created a chunk of size 1378, which is longer than the specified 1000\n",
            "Created a chunk of size 2108, which is longer than the specified 1000\n",
            "Created a chunk of size 1877, which is longer than the specified 1000\n",
            "Created a chunk of size 1010, which is longer than the specified 1000\n",
            "Created a chunk of size 1222, which is longer than the specified 1000\n",
            "Created a chunk of size 1005, which is longer than the specified 1000\n"
          ]
        }
      ],
      "source": [
        "from langchain.text_splitter import CharacterTextSplitter\n",
        "\n",
        "text_splitter = CharacterTextSplitter(chunk_size=1000, chunk_overlap=0)\n",
        "texts = text_splitter.split_documents(docs)\n"
      ]
    },
    {
      "cell_type": "code",
      "execution_count": 6,
      "metadata": {
        "colab": {
          "base_uri": "https://localhost:8080/"
        },
        "id": "011k3P5oGCEI",
        "outputId": "74b9fe1f-a1b7-407e-a95a-467c6de2a493"
      },
      "outputs": [
        {
          "data": {
            "text/plain": [
              "3673"
            ]
          },
          "execution_count": 6,
          "metadata": {},
          "output_type": "execute_result"
        }
      ],
      "source": [
        "len(texts)"
      ]
    },
    {
      "cell_type": "code",
      "execution_count": 7,
      "metadata": {
        "colab": {
          "base_uri": "https://localhost:8080/"
        },
        "id": "wVcjOx-N1oLu",
        "outputId": "2ea6a414-1e33-427c-87e2-c900b67ad07d"
      },
      "outputs": [
        {
          "name": "stderr",
          "output_type": "stream",
          "text": [
            "Using embedded DuckDB with persistence: data will be stored in: ./tmp/shadow/data/chromadb\n"
          ]
        }
      ],
      "source": [
        "# username = \"alphazz\"\n",
        "# db = DeepLake(dataset_path=f\"hub://{username}/chroma_source2\", embedding_function=embeddings, public=True)\n",
        "# db.add_documents(texts)\n",
        "\n",
        "vectordb = Chroma.from_documents(texts, embeddings, persist_directory=\"./tmp/shadow/data/chromadb\")\n",
        "vectordb.persist()"
      ]
    },
    {
      "cell_type": "code",
      "execution_count": 11,
      "metadata": {
        "colab": {
          "base_uri": "https://localhost:8080/"
        },
        "id": "tMhy-xdn1vMw",
        "outputId": "ee0af4f0-c411-4f18-fd4d-349ac6374fa2"
      },
      "outputs": [
        {
          "name": "stderr",
          "output_type": "stream",
          "text": [
            "|"
          ]
        },
        {
          "name": "stdout",
          "output_type": "stream",
          "text": [
            "This dataset can be visualized in Jupyter Notebook by ds.visualize() or at https://app.activeloop.ai/alphazz/chroma_source2\n",
            "\n"
          ]
        },
        {
          "name": "stderr",
          "output_type": "stream",
          "text": [
            "|"
          ]
        },
        {
          "name": "stdout",
          "output_type": "stream",
          "text": [
            "hub://alphazz/chroma_source2 loaded successfully.\n",
            "\n",
            "Deep Lake Dataset in hub://alphazz/chroma_source2 already exists, loading from the storage\n",
            "Dataset(path='hub://alphazz/chroma_source2', read_only=True, tensors=['embedding', 'ids', 'metadata', 'text'])\n",
            "\n",
            "  tensor     htype      shape       dtype  compression\n",
            "  -------   -------    -------     -------  ------- \n",
            " embedding  generic  (1074, 1536)  float32   None   \n",
            "    ids      text     (1074, 1)      str     None   \n",
            " metadata    json     (1074, 1)      str     None   \n",
            "   text      text     (1074, 1)      str     None   \n"
          ]
        },
        {
          "name": "stderr",
          "output_type": "stream",
          "text": [
            " \r"
          ]
        }
      ],
      "source": [
        "# db = DeepLake(dataset_path=f\"hub://{username}/chroma_source2\", read_only=True, embedding_function=embeddings)"
      ]
    },
    {
      "cell_type": "code",
      "execution_count": 8,
      "metadata": {
        "id": "aLlxAZ4S10GE"
      },
      "outputs": [],
      "source": [
        "db = vectordb\n",
        "retriever = db.as_retriever()\n",
        "retriever.search_kwargs['distance_metric'] = 'cos'\n",
        "retriever.search_kwargs['fetch_k'] = 100\n",
        "retriever.search_kwargs['maximal_marginal_relevance'] = True\n",
        "retriever.search_kwargs['k'] = 10\n"
      ]
    },
    {
      "cell_type": "code",
      "execution_count": 9,
      "metadata": {
        "id": "zsKsATuG190J"
      },
      "outputs": [],
      "source": [
        "from langchain.chat_models import ChatOpenAI\n",
        "from langchain.chains import ConversationalRetrievalChain\n",
        "\n",
        "model = ChatOpenAI(model='gpt-3.5-turbo')\n",
        "qa = ConversationalRetrievalChain.from_llm(model,retriever=retriever)"
      ]
    },
    {
      "cell_type": "code",
      "execution_count": 10,
      "metadata": {
        "colab": {
          "base_uri": "https://localhost:8080/"
        },
        "id": "8xhQH_VG2BZf",
        "outputId": "992d296f-a3eb-4041-e7de-a56e392be261"
      },
      "outputs": [
        {
          "name": "stdout",
          "output_type": "stream",
          "text": [
            "Question:\n",
            " What does Shadow do? \n",
            "\n",
            "Answer:\n",
            " Based on the context provided, it is not clear what Shadow is or does. The provided text is a comment section containing information about the license for a software product made available by Tencent. \n",
            "\n",
            "\n",
            "Question:\n",
            " How to use Shadow? \n",
            "\n",
            "Answer:\n",
            " Based on the provided context, Shadow is a software that is made available by Tencent to support the open-source community. It is licensed under the BSD 3-Clause License and can be used in compliance with the license terms. Unfortunately, the context does not provide specific information about the purpose or function of Shadow or how it can be utilized. \n",
            "\n",
            "\n"
          ]
        }
      ],
      "source": [
        "questions = [\n",
        "    \"What does Shadow do?\",\n",
        "    \"How to use Shadow?\"\n",
        "] \n",
        "chat_history = []\n",
        "\n",
        "for question in questions:  \n",
        "    result = qa({\"question\": question, \"chat_history\": chat_history})\n",
        "    chat_history.append((question, result['answer']))\n",
        "    print(f\"Question:\\n {question} \\n\")\n",
        "    print(f\"Answer:\\n {result['answer']} \\n\\n\")"
      ]
    },
    {
      "cell_type": "code",
      "execution_count": 11,
      "metadata": {
        "id": "q_DYKLNmBrPK"
      },
      "outputs": [],
      "source": [
        "def ask(question, chat_history):\n",
        "  response = qa({\"question\": question, \"chat_history\": chat_history})\n",
        "  print(f\"Question:\\n {question}\\n\")\n",
        "  print(f\"Answer:\\n {response['answer']}\\n\")"
      ]
    },
    {
      "cell_type": "code",
      "execution_count": 12,
      "metadata": {
        "colab": {
          "base_uri": "https://localhost:8080/"
        },
        "id": "RQ6d_NJx4bsD",
        "outputId": "a7118a55-a206-4117-9323-b483a5d1f9b8"
      },
      "outputs": [
        {
          "name": "stdout",
          "output_type": "stream",
          "text": [
            "Question:\n",
            " What's the main programming language used in Shadow?\n",
            "\n",
            "Answer:\n",
            " The given context does not provide information on the main programming language used in Shadow.\n",
            "\n"
          ]
        }
      ],
      "source": [
        "ask(\"What's the main programming language used in Shadow?\", chat_history)"
      ]
    },
    {
      "cell_type": "code",
      "execution_count": 13,
      "metadata": {
        "colab": {
          "base_uri": "https://localhost:8080/"
        },
        "id": "vMNXbAS64xiy",
        "outputId": "a827dbf9-ee9c-48d4-8a7f-5ccf78ad03c6"
      },
      "outputs": [
        {
          "name": "stdout",
          "output_type": "stream",
          "text": [
            "Question:\n",
            " Summarize the storage part of Shadow\n",
            "\n",
            "Answer:\n",
            " I'm sorry, the provided context does not contain information specific to the storage part of Shadow. Can you please provide more context or clarify your question?\n",
            "\n"
          ]
        }
      ],
      "source": [
        "ask('Summarize the storage part of Shadow', chat_history)"
      ]
    },
    {
      "cell_type": "code",
      "execution_count": 17,
      "metadata": {
        "colab": {
          "base_uri": "https://localhost:8080/"
        },
        "id": "Lpcokdnz4_7R",
        "outputId": "027ee649-b309-4b6c-aea7-541ccd92153c"
      },
      "outputs": [
        {
          "name": "stdout",
          "output_type": "stream",
          "text": [
            "Question:\n",
            " Shadow 是什么\n",
            "\n",
            "Answer:\n",
            " Based on the provided context, Shadow seems to be a software made available by Tencent to support the open source community. It is licensed under the BSD 3-Clause License. However, without more information it is unclear what the software actually does.\n",
            "\n"
          ]
        }
      ],
      "source": [
        "ask('Shadow 是什么', chat_history)"
      ]
    },
    {
      "cell_type": "code",
      "execution_count": 19,
      "metadata": {},
      "outputs": [
        {
          "name": "stdout",
          "output_type": "stream",
          "text": [
            "Question:\n",
            " Shadow 怎么使用，请用中文回答\n",
            "\n",
            "Answer:\n",
            " Shadow是一个腾讯开发的Android插件框架，可以让你在一个宿主应用中使用多个插件。Shadow主要有以下特点：\n",
            "\n",
            "- 可以复用独立安装App的源码\n",
            "- 零反射无Hack实现插件技术，从理论上就已经确定无需对任何系统做兼容开发，更无任何隐藏API调用\n",
            "- 全动态插件框架，一次性实现完美的插件框架很难，但Shadow将这些实现全部动态化起来，使插件框架的代码成为了插件的一部分\n",
            "- 宿主增量极小，得益于全动态实现，真正合入宿主程序的代码量极小（15KB，160方法数左右）\n",
            "\n",
            "插件化开发的好处主要有两点：\n",
            "\n",
            "- 系统分层隔离，提高稳定性。不同的模块通过插件化可以在不同的进程中，相互之间的影响大大降低，增加了系统的稳定性。\n",
            "- 提高开发效率和管理效率。不同的模块维护在不同的代码仓库中，开发人员可以分别负责不同的模块，提高了开发效率，同时也方便了管理。\n",
            "\n"
          ]
        }
      ],
      "source": [
        "ask('Shadow 怎么使用，请用中文回答', chat_history)"
      ]
    },
    {
      "cell_type": "code",
      "execution_count": 21,
      "metadata": {},
      "outputs": [
        {
          "name": "stdout",
          "output_type": "stream",
          "text": [
            "Question:\n",
            " Shadow 有哪几个 Samples App 示例，请用中文回答\n",
            "\n",
            "Answer:\n",
            " Shadow提供了以下两个示例工程：\n",
            "\n",
            "- 源码依赖 SDK 的 Sample(`projects/sample/source`)\n",
            "- 二进制 Maven 依赖 SDK 的 Sample(`projects/sample/maven`)\n",
            "\n"
          ]
        }
      ],
      "source": [
        "ask('Shadow 有哪几个 Samples App 示例，请用中文回答', chat_history)"
      ]
    },
    {
      "cell_type": "code",
      "execution_count": 22,
      "metadata": {},
      "outputs": [
        {
          "name": "stdout",
          "output_type": "stream",
          "text": [
            "Question:\n",
            " Shadow 中 Samples DynamicAPK 示例是演示什么功能的，请用中文回答\n",
            "\n",
            "Answer:\n",
            " Shadow中Samples DynamicAPK示例演示了一个多插件环境，其中包含了一个宿主应用、一个插件管理器和多个插件。宿主应用打包了管理器，以及 Shadow 的核心实现，即 Loader 和 Runtime。管理器负责下载、安装和卸载插件。插件可以包含业务 App 和 Shadow 的核心实现，即 Loader 和 Runtime。其中业务 App 和 Loader、Runtime 是同一个版本的代码编译出的。因此，Loader 可以包含一些业务逻辑，针对业务进行特殊处理。由于 Loader 是多实例的，因此同一个宿主中可以有多种不同的 Loader 实现。在加载插件时，管理器需要先加载插件中的 Runtime 和 Loader，再通过 Loader 的 Binder 操作 Loader 进而加载业务 App。\n",
            "\n"
          ]
        }
      ],
      "source": [
        "ask('Shadow 中 Samples DynamicAPK 示例是演示什么功能的，请用中文回答', chat_history)"
      ]
    },
    {
      "cell_type": "code",
      "execution_count": 23,
      "metadata": {},
      "outputs": [
        {
          "name": "stdout",
          "output_type": "stream",
          "text": [
            "Question:\n",
            " Shadow 中多插件 Samples 示例工程是哪个，请用中文回答\n",
            "\n",
            "Answer:\n",
            " Shadow中的多插件示例工程是在`projects/sample/source`目录中的`sample-app`和`sample-base`构成的。在Android Studio中可以直接运行`sample-host`模块来查看示例效果，同时阅读`sample-app`和`sample-base`的代码来了解多插件的实现方式。\n",
            "\n"
          ]
        }
      ],
      "source": [
        "ask('Shadow 中多插件 Samples 示例工程是哪个，请用中文回答', chat_history)"
      ]
    },
    {
      "cell_type": "code",
      "execution_count": 24,
      "metadata": {},
      "outputs": [
        {
          "name": "stderr",
          "output_type": "stream",
          "text": [
            "Retrying langchain.chat_models.openai.ChatOpenAI.completion_with_retry.<locals>._completion_with_retry in 1.0 seconds as it raised APIConnectionError: Error communicating with OpenAI: HTTPSConnectionPool(host='api.openai.com', port=443): Max retries exceeded with url: /v1/chat/completions (Caused by NewConnectionError('<urllib3.connection.HTTPSConnection object at 0x000002E817F0E370>: Failed to establish a new connection: [WinError 10060] 由于连接方在一段时间后没有正确答复或连接的主机没有反应，连接尝试失败。')).\n",
            "Retrying langchain.chat_models.openai.ChatOpenAI.completion_with_retry.<locals>._completion_with_retry in 2.0 seconds as it raised APIConnectionError: Error communicating with OpenAI: HTTPSConnectionPool(host='api.openai.com', port=443): Max retries exceeded with url: /v1/chat/completions (Caused by NewConnectionError('<urllib3.connection.HTTPSConnection object at 0x000002E817F0EAF0>: Failed to establish a new connection: [WinError 10060] 由于连接方在一段时间后没有正确答复或连接的主机没有反应，连接尝试失败。')).\n"
          ]
        },
        {
          "name": "stdout",
          "output_type": "stream",
          "text": [
            "Question:\n",
            " Shadow 中Classloader 插件加载怎么实现的，请用中文回答\n",
            "\n",
            "Answer:\n",
            " 在 Shadow 中，每个插件都有一个独立的 ClassLoader 来加载插件的类。这个 ClassLoader 是在插件的 ShadowRuntime 中创建的，它的父类加载器是宿主应用的 ClassLoader。这样可以保证插件类和宿主类在加载时相互独立，避免类冲突。同时，Shadow 还实现了插件间的类加载隔离，使得不同插件之间的类也是相互独立的。\n",
            "\n"
          ]
        }
      ],
      "source": [
        "ask('Shadow 中Classloader 插件加载怎么实现的，请用中文回答', chat_history)"
      ]
    },
    {
      "cell_type": "code",
      "execution_count": 25,
      "metadata": {},
      "outputs": [
        {
          "name": "stdout",
          "output_type": "stream",
          "text": [
            "Question:\n",
            " Shadow 中 Resource 资源加载怎么实现的，请用中文回答\n",
            "\n",
            "Answer:\n",
            " 在 Shadow 中，资源加载的实现是通过替换宿主程序的 Resources 对象，在插件的 Resources 对象中查找资源来实现的。具体实现方法如下：\n",
            "\n",
            "1. 在插件代码中创建一个新的 Resources 对象，用于查找插件资源。代码示例：\n",
            "\n",
            "   ```java\n",
            "   AssetManager assetManager = createAssetManager(pluginApkFilePath);\n",
            "   Resources pluginResources = new Resources(assetManager, hostResources.getDisplayMetrics(), hostResources.getConfiguration());\n",
            "   ```\n",
            "\n",
            "   在这个示例中，createAssetManager() 方法是用来创建 AssetManager 对象的，pluginApkFilePath 参数表示插件 apk 文件的路径。hostResources 参数表示宿主程序的 Resources 对象，这个参数用于设置插件资源的一些基本信息，例如屏幕密度、语言等。\n",
            "\n",
            "2. 在宿主程序的 Context 中，替换掉 Resources 对象。代码示例：\n",
            "\n",
            "   ```java\n",
            "   Context appContext = context.getApplicationContext();\n",
            "   try {\n",
            "       Class<?> contextImplClass = Class.forName(\"android.app.ContextImpl\");\n",
            "       Field mResourcesField = contextImplClass.getDeclaredField(\"mResources\");\n",
            "       mResourcesField.setAccessible(true);\n",
            "       mResourcesField.set(appContext, pluginResources);\n",
            "   } catch (ClassNotFoundException | NoSuchFieldException | IllegalAccessException e) {\n",
            "       e.printStackTrace();\n",
            "   }\n",
            "   ```\n",
            "\n",
            "   在这个示例中，context 参数表示宿主程序的 Context 对象，appContext 是宿主程序的 Application Context。我们可以通过反射来获取 ContextImpl 类中的 mResources 成员变量，并将其设置为插件的 Resources 对象，从而实现资源加载。\n",
            "\n",
            "这样，当宿主程序调用 getResources() 方法时，就会返回我们替换后的 Resources 对象，从而在插件中查找资源。\n",
            "\n"
          ]
        }
      ],
      "source": [
        "ask('Shadow 中 Resource 资源加载怎么实现的，请用中文回答', chat_history)"
      ]
    }
  ],
  "metadata": {
    "colab": {
      "authorship_tag": "ABX9TyNnHgC0INV5gC+75pBfvvrl",
      "include_colab_link": true,
      "provenance": []
    },
    "kernelspec": {
      "display_name": "Python 3",
      "name": "python3"
    },
    "language_info": {
      "codemirror_mode": {
        "name": "ipython",
        "version": 3
      },
      "file_extension": ".py",
      "mimetype": "text/x-python",
      "name": "python",
      "nbconvert_exporter": "python",
      "pygments_lexer": "ipython3",
      "version": "3.8.13"
    }
  },
  "nbformat": 4,
  "nbformat_minor": 0
}
