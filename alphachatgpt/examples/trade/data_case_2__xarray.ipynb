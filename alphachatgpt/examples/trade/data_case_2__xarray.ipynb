{
 "cells": [
  {
   "cell_type": "code",
   "execution_count": null,
   "metadata": {},
   "outputs": [],
   "source": [
    "import xarray as xr\n",
    "import empyrical as ep\n",
    "import talib\n",
    "import pandas as pd\n",
    "import numpy as np\n",
    "\n",
    "# 生成示例数据\n",
    "data = pd.DataFrame({\n",
    "    'price': np.random.rand(100),\n",
    "    'volume': np.random.rand(100),\n",
    "    'date': pd.date_range('2022-01-01', periods=100)\n",
    "})\n",
    "\n",
    "# 将数据设置为时间序列\n",
    "data.set_index('date', inplace=True)\n",
    "\n",
    "# 使用xarray处理数据\n",
    "xr_data = xr.Dataset({'price': (('date',), data['price']),\n",
    "                      'volume': (('date',), data['volume'])},\n",
    "                     coords={'date': data.index})\n",
    "\n",
    "# 计算简单移动平均\n",
    "xr_data['sma'] = xr_data['price'].rolling(date=10).mean()\n",
    "\n",
    "# 计算夏普比率\n",
    "sharpe_ratio = ep.sharpe_ratio(xr_data['price'])\n",
    "print(\"Sharpe Ratio:\", sharpe_ratio)\n",
    "\n",
    "# 计算布林带\n",
    "xr_data['upper_band'], xr_data['middle_band'], xr_data['lower_band'] = talib.BBANDS(\n",
    "    xr_data['price'].values,\n",
    "    timeperiod=20,\n",
    "    nbdevup=2,\n",
    "    nbdevdn=2,\n",
    "    matype=0\n",
    ")\n",
    "\n",
    "# 打印处理后的数据\n",
    "print(xr_data)\n"
   ]
  }
 ],
 "metadata": {
  "kernelspec": {
   "display_name": "py310",
   "language": "python",
   "name": "python3"
  },
  "language_info": {
   "name": "python",
   "version": "3.10.12"
  },
  "orig_nbformat": 4
 },
 "nbformat": 4,
 "nbformat_minor": 2
}
