{
 "cells": [
  {
   "attachments": {},
   "cell_type": "markdown",
   "metadata": {},
   "source": [
    "## 7.5文本数据处理"
   ]
  },
  {
   "attachments": {},
   "cell_type": "markdown",
   "metadata": {},
   "source": [
    "![image.png](./image21.png)"
   ]
  },
  {
   "cell_type": "code",
   "execution_count": 1,
   "metadata": {},
   "outputs": [
    {
     "name": "stderr",
     "output_type": "stream",
     "text": [
      "Building prefix dict from the default dictionary ...\n",
      "Dumping model to file cache /var/folders/jm/g284dt7s285942ndw76zxfk40000gp/T/jieba.cache\n",
      "Loading model cost 1.500 seconds.\n",
      "Prefix dict has been built successfully.\n"
     ]
    }
   ],
   "source": [
    "import jieba\n",
    "\n",
    "raw_text = \"\"\"\n",
    "我爱上海\n",
    "她喜欢北京\n",
    "他在杭州工作\n",
    "\"\"\"\n",
    "stoplist=[' ','\\n']\n",
    "\n",
    "# 利用 jieba 进行分词\n",
    "words = list(jieba.cut(raw_text))\n",
    "# 过滤停用词，如空格，回车符\\n等\n",
    "words=[i for i in words if i not in stoplist]\n",
    "\n",
    "#去重，然后对每个词加上索引或给一个整数\n",
    "word_to_ix = { i: word for i, word in enumerate(set(words))}"
   ]
  },
  {
   "cell_type": "code",
   "execution_count": 3,
   "metadata": {},
   "outputs": [
    {
     "data": {
      "text/plain": [
       "['我', '爱', '上海', '她', '喜欢', '北京', '他', '在', '杭州', '工作']"
      ]
     },
     "execution_count": 3,
     "metadata": {},
     "output_type": "execute_result"
    }
   ],
   "source": [
    "words"
   ]
  },
  {
   "cell_type": "code",
   "execution_count": 2,
   "metadata": {},
   "outputs": [
    {
     "data": {
      "text/plain": [
       "{0: '我',\n",
       " 1: '在',\n",
       " 2: '爱',\n",
       " 3: '他',\n",
       " 4: '北京',\n",
       " 5: '杭州',\n",
       " 6: '工作',\n",
       " 7: '喜欢',\n",
       " 8: '上海',\n",
       " 9: '她'}"
      ]
     },
     "execution_count": 2,
     "metadata": {},
     "output_type": "execute_result"
    }
   ],
   "source": [
    "word_to_ix"
   ]
  },
  {
   "cell_type": "code",
   "execution_count": 5,
   "metadata": {},
   "outputs": [],
   "source": [
    "from torch import nn\n",
    "import torch\n",
    "\n",
    "embeds = nn.Embedding(10, 8)\n",
    "\n",
    "lists=[]\n",
    "\n",
    "for k,v in word_to_ix.items():\n",
    "    tensor_value = torch.tensor(k)\n",
    "    embed = embeds(tensor_value)\n",
    "    lists.append(embed.data)\n",
    "\n"
   ]
  },
  {
   "cell_type": "code",
   "execution_count": 6,
   "metadata": {},
   "outputs": [
    {
     "data": {
      "text/plain": [
       "[tensor([-0.4637, -0.5688, -1.8339,  2.2226, -1.5609,  0.3559,  0.2312,  0.3042]),\n",
       " tensor([ 1.6484,  1.5183, -0.1050,  2.1923, -1.1768,  0.4110, -1.2634,  0.9915]),\n",
       " tensor([ 1.0855, -0.6416,  1.4958,  0.9437, -1.5849, -2.5311,  0.9916,  0.0361]),\n",
       " tensor([-0.0609, -0.8797, -1.2194, -1.4141,  0.3167,  0.5212, -1.1245, -0.5457]),\n",
       " tensor([-1.1675, -0.1503,  0.7919, -1.4970, -2.1399,  1.3304, -0.1488, -0.6035]),\n",
       " tensor([ 0.2530, -0.1693, -1.5616,  0.4834, -0.4340,  0.6901,  0.5365,  1.6437]),\n",
       " tensor([-0.2538,  1.5953,  0.4940,  0.2845, -0.5527, -1.3952,  0.2089,  0.4951]),\n",
       " tensor([ 0.4581, -1.0175,  0.0437, -0.8479,  1.2931,  0.5076, -0.3192, -0.4572]),\n",
       " tensor([ 2.2715, -0.4882, -1.0055, -0.1919, -0.2046,  0.2102, -1.3330,  0.4428]),\n",
       " tensor([-1.1646, -2.0563,  0.8385,  1.3934,  2.4068, -0.5239, -0.6420, -1.4901])]"
      ]
     },
     "execution_count": 6,
     "metadata": {},
     "output_type": "execute_result"
    }
   ],
   "source": [
    "lists"
   ]
  },
  {
   "cell_type": "code",
   "execution_count": 7,
   "metadata": {},
   "outputs": [],
   "source": [
    "word_to_ix = { \"我\": 0,  \"喜欢\": 1, \"她\": 2}\n",
    "embeds = nn.Embedding(3, 5) # 3 words in vocab, 5 dimensional embeddings\n",
    "\n",
    "ix = word_to_ix[\"我\"] \n",
    "lookup_tensor = torch.LongTensor([ix])\n",
    "me_embed = embeds(lookup_tensor)"
   ]
  },
  {
   "cell_type": "code",
   "execution_count": 8,
   "metadata": {},
   "outputs": [
    {
     "data": {
      "text/plain": [
       "0"
      ]
     },
     "execution_count": 8,
     "metadata": {},
     "output_type": "execute_result"
    }
   ],
   "source": [
    "ix"
   ]
  },
  {
   "cell_type": "code",
   "execution_count": 9,
   "metadata": {},
   "outputs": [
    {
     "data": {
      "text/plain": [
       "tensor([0])"
      ]
     },
     "execution_count": 9,
     "metadata": {},
     "output_type": "execute_result"
    }
   ],
   "source": [
    "lookup_tensor"
   ]
  },
  {
   "cell_type": "code",
   "execution_count": 10,
   "metadata": {},
   "outputs": [
    {
     "data": {
      "text/plain": [
       "tensor([[ 0.9674, -0.3753,  0.5218, -0.3350,  0.4684]],\n",
       "       grad_fn=<EmbeddingBackward0>)"
      ]
     },
     "execution_count": 10,
     "metadata": {},
     "output_type": "execute_result"
    }
   ],
   "source": [
    "me_embed"
   ]
  }
 ],
 "metadata": {
  "kernelspec": {
   "display_name": "py38",
   "language": "python",
   "name": "python3"
  },
  "language_info": {
   "codemirror_mode": {
    "name": "ipython",
    "version": 3
   },
   "file_extension": ".py",
   "mimetype": "text/x-python",
   "name": "python",
   "nbconvert_exporter": "python",
   "pygments_lexer": "ipython3",
   "version": "3.8.13"
  },
  "orig_nbformat": 4
 },
 "nbformat": 4,
 "nbformat_minor": 2
}
